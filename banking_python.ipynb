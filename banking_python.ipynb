{
 "cells": [
  {
   "cell_type": "code",
   "execution_count": 2,
   "id": "84697854-778f-4038-88a7-36779b4d8e72",
   "metadata": {},
   "outputs": [
    {
     "name": "stdout",
     "output_type": "stream",
     "text": [
      "Account ID: 1001\n",
      "Customer Name: Diksha\n",
      "Balance: 5000\n",
      "Deposited 2000 (cash). New balance: 7000\n",
      "Withdrew 500. New balance: 6500\n",
      "Current balance: 6500\n"
     ]
    }
   ],
   "source": [
    "class Bank:\n",
    "    def __init__(self, IFSC_Code, bankname, branchname, loc):\n",
    "        self.IFSC_Code = IFSC_Code\n",
    "        self.bankname = bankname\n",
    "        self.branchname = branchname\n",
    "        self.loc = loc\n",
    "\n",
    "class Customer:\n",
    "    def __init__(self, CustomerID, custname, address, contactdetails):\n",
    "        self.CustomerID = CustomerID\n",
    "        self.custname = custname\n",
    "        self.address = address\n",
    "        self.contactdetails = contactdetails\n",
    "\n",
    "class Account(Bank):\n",
    "    def __init__(self, IFSC_Code, bankname, branchname, loc, AccountID, Cust, balance):\n",
    "        super().__init__(IFSC_Code, bankname, branchname, loc)\n",
    "        self.AccountID = AccountID\n",
    "        self.Cust = Cust\n",
    "        self.balance = balance\n",
    "\n",
    "    def getAccountInfo(self):\n",
    "        return f\"Account ID: {self.AccountID}\\nCustomer Name: {self.Cust.custname}\\nBalance: {self.balance}\"\n",
    "\n",
    "    def deposit(self, amount, is_cash=True):\n",
    "        if is_cash:\n",
    "            self.balance += amount\n",
    "            return f\"Deposited {amount} (cash). New balance: {self.balance}\"\n",
    "        else:\n",
    "            return \"Non-cash deposits are not supported.\"\n",
    "\n",
    "    def withdraw(self, amount):\n",
    "        if self.balance >= amount:\n",
    "            self.balance -= amount\n",
    "            return f\"Withdrew {amount}. New balance: {self.balance}\"\n",
    "        else:\n",
    "            return \"Insufficient balance for withdrawal.\"\n",
    "\n",
    "    def getBalance(self):\n",
    "        return f\"Current balance: {self.balance}\"\n",
    "\n",
    "class SavingsAccount(Account):\n",
    "    def __init__(self, IFSC_Code, bankname, branchname, loc, AccountID, Cust, balance, SMinBalance):\n",
    "        super().__init__(IFSC_Code, bankname, branchname, loc, AccountID, Cust, balance)\n",
    "        self.SMinBalance = SMinBalance\n",
    "\n",
    "    def getSavingAccountInfo(self):\n",
    "        return f\"Account ID: {self.AccountID}\\nCustomer Name: {self.Cust.custname}\\nBalance: {self.balance}\"\n",
    "\n",
    "    def withdraw(self, amount):\n",
    "        if self.balance - amount >= self.SMinBalance:\n",
    "            self.balance -= amount\n",
    "            return f\"Withdrew {amount}. New balance: {self.balance}\"\n",
    "        else:\n",
    "            return \"Insufficient balance for withdrawal.\"\n",
    "\n",
    "if __name__ == \"__main__\":\n",
    "    # Create a customer\n",
    "    customer1 = Customer(101, \"Diksha\", \"123 Barra Street\", \"diksha@gmail.com\")\n",
    "\n",
    "    # Create a savings account\n",
    "    savings_account1 = SavingsAccount(\"ABC123\", \"SBI\", \"Kanpur\", \"Uttar Pradesh\", 1001, customer1, 5000, 1000)\n",
    "\n",
    "    print(savings_account1.getAccountInfo())\n",
    "    print(savings_account1.deposit(2000))\n",
    "    print(savings_account1.withdraw(500))\n",
    "    print(savings_account1.getBalance())\n"
   ]
  },
  {
   "cell_type": "code",
   "execution_count": null,
   "id": "3ffa8e45-ec14-476b-9aba-f742a8c09a38",
   "metadata": {},
   "outputs": [],
   "source": []
  }
 ],
 "metadata": {
  "kernelspec": {
   "display_name": "Python 3 (ipykernel)",
   "language": "python",
   "name": "python3"
  },
  "language_info": {
   "codemirror_mode": {
    "name": "ipython",
    "version": 3
   },
   "file_extension": ".py",
   "mimetype": "text/x-python",
   "name": "python",
   "nbconvert_exporter": "python",
   "pygments_lexer": "ipython3",
   "version": "3.12.1"
  }
 },
 "nbformat": 4,
 "nbformat_minor": 5
}
